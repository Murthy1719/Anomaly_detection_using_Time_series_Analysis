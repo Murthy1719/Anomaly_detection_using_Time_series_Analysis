{
 "cells": [
  {
   "cell_type": "code",
   "execution_count": null,
   "metadata": {},
   "outputs": [],
   "source": [
    "import matplotlib.pyplot as plt\n",
    "import numpy as np\n",
    "import rasterio as rs\n",
    "import earthpy.plot as ep\n",
    "import pandas as pd"
   ]
  },
  {
   "cell_type": "code",
   "execution_count": null,
   "metadata": {},
   "outputs": [],
   "source": [
    "jan = rs.open('./img/resampled/Subset_9_jan_2021_resampled.tif')\n",
    "apr = rs.open('./img/resampled/Subset_19_april_2021_resampled.tif')\n",
    "mar = rs.open('./img/resampled/Subset_20_march_2021_resampled.tif')"
   ]
  },
  {
   "cell_type": "code",
   "execution_count": null,
   "metadata": {},
   "outputs": [],
   "source": [
    "jan.meta"
   ]
  },
  {
   "cell_type": "code",
   "execution_count": null,
   "metadata": {},
   "outputs": [],
   "source": [
    "pipelatlong = pd.read_csv('pipe_lat_long.txt', sep=\"\\t\")\n",
    "cols = 6261\n",
    "rows = 2451\n",
    "top, left, bottom, right = 29.985, 77.504, 29.75, 78.145\n",
    "\n",
    "pipeindices = []\n",
    "k = pipelatlong.shape[0]\n",
    "for i in range(k):\n",
    "    yc = pipelatlong.loc[i].at[\"Latitude\"]\n",
    "    xc = pipelatlong.loc[i].at[\"Longitude\"]\n",
    "    yi = round((yc - top)*(rows - 1)/(bottom - top))\n",
    "    xi = round((xc - left)*(cols - 1)/(right - left))\n",
    "    pipeindices.append((yi, xi))"
   ]
  },
  {
   "cell_type": "code",
   "execution_count": null,
   "metadata": {},
   "outputs": [],
   "source": [
    "np.seterr(divide='ignore', invalid='ignore')\n",
    "def calculate_ndvi(img):\n",
    "    red = img.read(4).astype(float)\n",
    "    nir8 = img.read(7).astype(float)\n",
    "    return ((nir8 - red)/(nir8 + red))"
   ]
  },
  {
   "cell_type": "code",
   "execution_count": null,
   "metadata": {},
   "outputs": [],
   "source": [
    "def plot_ndvi(a_ndvi, month):\n",
    "    ti = \"NDVI plot of \"+month\n",
    "    ep.plot_bands(a_ndvi,\n",
    "                  cmap=\"PiYG\",\n",
    "                  vmin=np.nanmin(a_ndvi), vmax=np.nanmax(a_ndvi),\n",
    "                  scale=False,\n",
    "                  title=ti,\n",
    "                  figsize=(30,30))\n",
    "    plt.show()"
   ]
  },
  {
   "cell_type": "code",
   "execution_count": null,
   "metadata": {},
   "outputs": [],
   "source": [
    "def plot_ndvi_diff(a_ndvi, b_ndvi, month1, month2):\n",
    "    ti = \"Plot of Difference between NDVIs of \"+month1+\" and \"+month2\n",
    "    k = (a_ndvi - b_ndvi)\n",
    "    ep.plot_bands(k,\n",
    "                  vmin=np.nanmin(k), vmax=np.nanmax(k),\n",
    "                  scale=False,\n",
    "                  title=ti)\n",
    "    plt.show()"
   ]
  },
  {
   "cell_type": "code",
   "execution_count": null,
   "metadata": {},
   "outputs": [],
   "source": [
    "def Anamoly(a_ndvi, b_ndvi, threshold, r):\n",
    "    if (a_ndvi.shape[0] != b_ndvi.shape[0] or a_ndvi.shape[1] != b_ndvi.shape[1]):\n",
    "        print(\"Two arrays are not the same size\\n\")\n",
    "        return []\n",
    "    n = a_ndvi.shape[0]\n",
    "    m = a_ndvi.shape[1]\n",
    "    list = []\n",
    "    for (cy, cx) in pipeindices:\n",
    "        cnt = 0\n",
    "        value = 0\n",
    "        for i in range(2*r):\n",
    "            for j in range(2*r):\n",
    "                if (cy + i - r >= 0 and cx + j - r >= 0 and cy + i - r <= n and cx + j - r <= m):\n",
    "                    cnt = cnt + 1\n",
    "                    value += abs(a_ndvi[cy+i-r][cx+j-r] - b_ndvi[cy+i-r][cx+j-r])\n",
    "        if (value >= cnt*threshold):\n",
    "            list.append(1)\n",
    "        else:\n",
    "            list.append(0)\n",
    "    return list    "
   ]
  },
  {
   "cell_type": "code",
   "execution_count": null,
   "metadata": {},
   "outputs": [],
   "source": [
    "from matplotlib.patches import Circle\n",
    "img = mar.read(7)\n",
    "\n",
    "def plot(x, img, month1, month2, ndvi):\n",
    "    ti = \"Plot of anomalies based on \"+ndvi+\" between \"+month1+\" and \"+month2\n",
    "    patches = [Circle((cy, cx), radius=20, color='yellow') for (cx, cy) in pipeindices]\n",
    "    patches2 = [Circle((cy, cx), radius=5, color='white') for (cx, cy) in pipeindices]\n",
    "    patches3 = []\n",
    "    for i in range(len(x)):\n",
    "        if (x[i] == 1):\n",
    "            (cx, cy) = pipeindices[i]\n",
    "            patches3.append(Circle((cy, cx), radius=20, color='red'))\n",
    "    fig, ax = plt.subplots(figsize=(20,20), dpi=150)\n",
    "    ax.imshow(img)\n",
    "    for p in patches:\n",
    "        ax.add_patch(p)\n",
    "    for p in patches3:\n",
    "        ax.add_patch(p)\n",
    "    for p in patches2:\n",
    "        ax.add_patch(p)\n",
    "    plt.title(ti)\n",
    "    plt.show(fig)"
   ]
  },
  {
   "cell_type": "code",
   "execution_count": null,
   "metadata": {},
   "outputs": [],
   "source": [
    "jan_ndvi = calculate_ndvi(jan)\n",
    "mar_ndvi = calculate_ndvi(mar)\n",
    "apr_ndvi = calculate_ndvi(apr)"
   ]
  },
  {
   "cell_type": "code",
   "execution_count": null,
   "metadata": {},
   "outputs": [],
   "source": [
    "plot_ndvi(jan_ndvi, month=\"January\")"
   ]
  },
  {
   "cell_type": "code",
   "execution_count": null,
   "metadata": {},
   "outputs": [],
   "source": [
    "plot_ndvi(mar_ndvi,month=\"March\")"
   ]
  },
  {
   "cell_type": "code",
   "execution_count": null,
   "metadata": {},
   "outputs": [],
   "source": [
    "plot_ndvi(apr_ndvi, month=\"April\")"
   ]
  },
  {
   "cell_type": "code",
   "execution_count": null,
   "metadata": {},
   "outputs": [],
   "source": [
    "plot_ndvi_diff(jan_ndvi, mar_ndvi, \"January\", \"March\")"
   ]
  },
  {
   "cell_type": "code",
   "execution_count": null,
   "metadata": {},
   "outputs": [],
   "source": [
    "plot_ndvi_diff(jan_ndvi, apr_ndvi, \"January\", \"April\")"
   ]
  },
  {
   "cell_type": "code",
   "execution_count": null,
   "metadata": {},
   "outputs": [],
   "source": [
    "plot_ndvi_diff(mar_ndvi, apr_ndvi, \"March\", \"April\")"
   ]
  },
  {
   "cell_type": "code",
   "execution_count": null,
   "metadata": {},
   "outputs": [],
   "source": [
    "janapr = Anamoly(jan_ndvi, mar_ndvi, 0.25, 10)\n",
    "plot(janapr, img, \"January\", \"March\", \"NDVI\")"
   ]
  },
  {
   "cell_type": "code",
   "execution_count": null,
   "metadata": {},
   "outputs": [],
   "source": [
    "marapr = Anamoly(mar_ndvi, apr_ndvi, 0.4, 10)\n",
    "plot(marapr, img, \"March\", \"April\", \"NDVI\")"
   ]
  },
  {
   "cell_type": "code",
   "execution_count": null,
   "metadata": {},
   "outputs": [],
   "source": [
    "janmar = Anamoly(jan_ndvi, apr_ndvi, 0.1, 10)\n",
    "plot(janapr, img, \"January\", \"April\", \"NDVI\")"
   ]
  },
  {
   "cell_type": "code",
   "execution_count": null,
   "metadata": {},
   "outputs": [],
   "source": [
    "def calculate_ndbi(img):\n",
    "    swir = img.read(11).astype(float)\n",
    "    nir = img.read(8).astype(float)\n",
    "    return ((swir - nir)/(swir+nir))"
   ]
  },
  {
   "cell_type": "code",
   "execution_count": null,
   "metadata": {},
   "outputs": [],
   "source": [
    "def plot_ndbi(a_ndbi, month):\n",
    "    ti=\"NDBI plot of month \"+month\n",
    "    ep.plot_bands(a_ndbi,\n",
    "                  vmin=np.nanmin(a_ndbi), vmax=np.nanmax(a_ndbi),\n",
    "                  figsize=(15,15),\n",
    "                  scale=False,\n",
    "                  title=ti)\n",
    "    plt.show()"
   ]
  },
  {
   "cell_type": "code",
   "execution_count": null,
   "metadata": {},
   "outputs": [],
   "source": [
    "jan_ndbi = calculate_ndbi(jan)\n",
    "mar_ndbi = calculate_ndbi(mar)\n",
    "apr_ndbi = calculate_ndbi(apr)"
   ]
  },
  {
   "cell_type": "code",
   "execution_count": null,
   "metadata": {},
   "outputs": [],
   "source": [
    "plot_ndbi(jan_ndbi, \"January\")"
   ]
  },
  {
   "cell_type": "code",
   "execution_count": null,
   "metadata": {},
   "outputs": [],
   "source": [
    "plot_ndbi(mar_ndbi, \"March\")"
   ]
  },
  {
   "cell_type": "code",
   "execution_count": null,
   "metadata": {},
   "outputs": [],
   "source": [
    "plot_ndbi(apr_ndbi, \"April\")"
   ]
  },
  {
   "cell_type": "code",
   "execution_count": null,
   "metadata": {},
   "outputs": [],
   "source": [
    "janmar_ndbi = Anamoly(jan_ndbi, mar_ndbi, 0.3, 10)\n",
    "plot(janmar_ndbi, img, \"January\", \"March\", \"NDBI\")"
   ]
  },
  {
   "cell_type": "code",
   "execution_count": null,
   "metadata": {},
   "outputs": [],
   "source": [
    "janapr_ndbi = Anamoly(jan_ndbi, apr_ndbi, 0.3, 10)\n",
    "plot(janapr_ndbi, img, \"January\", \"April\", \"NDBI\")"
   ]
  },
  {
   "cell_type": "code",
   "execution_count": null,
   "metadata": {},
   "outputs": [],
   "source": [
    "marapr_ndbi = Anamoly(mar_ndbi, apr_ndbi, 0.3, 10)\n",
    "plot(marapr_ndbi, img, \"March\", \"April\", \"NDBI\")"
   ]
  }
 ],
 "metadata": {
  "interpreter": {
   "hash": "916dbcbb3f70747c44a77c7bcd40155683ae19c65e1c03b4aa3499c5328201f1"
  },
  "kernelspec": {
   "display_name": "Python 3.8.10 64-bit",
   "language": "python",
   "name": "python3"
  },
  "language_info": {
   "codemirror_mode": {
    "name": "ipython",
    "version": 3
   },
   "file_extension": ".py",
   "mimetype": "text/x-python",
   "name": "python",
   "nbconvert_exporter": "python",
   "pygments_lexer": "ipython3",
   "version": "3.8.10"
  },
  "orig_nbformat": 4
 },
 "nbformat": 4,
 "nbformat_minor": 2
}
